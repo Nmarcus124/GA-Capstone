{
 "cells": [
  {
   "cell_type": "markdown",
   "metadata": {},
   "source": [
    "# Capstone Part 1\n",
    "Nati Marcus"
   ]
  },
  {
   "cell_type": "markdown",
   "metadata": {},
   "source": [
    "For my capstone project, I have chosen to create a movie recommendation system based off data from Netflix, Hulu, Amazon Prime Video, and Disney+.\n",
    "\n",
    "## Problem Statement\n",
    "All major TV and movie streaming platforms today have their own recommendations built into their software. However, each streaming service is only able to recommend whichever movies are currently on its respective platform.  To solve this problem, I will build a recommender system model for movies on Netflix, Hulu,  Amazon Prime Video, and Disney+ to predict which movies to recommend to a user in one location. I will use movie description, actors, genre, and sub genre to compare movies with cosine similarity. The model will be evaluated based on the cosine similarity scores between titles in the dataset. \n",
    "\n",
    "## Data Source:\n",
    "https://www.kaggle.com/ruchi798/movies-on-netflix-prime-video-hulu-and-disney"
   ]
  },
  {
   "cell_type": "code",
   "execution_count": 42,
   "metadata": {},
   "outputs": [],
   "source": [
    "#imports\n",
    "import pandas as pd\n",
    "import numpy as np\n",
    "import matplotlib.pyplot as plt\n",
    "import seaborn as sns"
   ]
  },
  {
   "cell_type": "code",
   "execution_count": 45,
   "metadata": {},
   "outputs": [],
   "source": [
    "#reading in dataset from rt score collection\n",
    "df = pd.read_csv('data/total_webscraped.csv',index_col=0)"
   ]
  },
  {
   "cell_type": "code",
   "execution_count": 46,
   "metadata": {
    "scrolled": true
   },
   "outputs": [
    {
     "data": {
      "text/html": [
       "<div>\n",
       "<style scoped>\n",
       "    .dataframe tbody tr th:only-of-type {\n",
       "        vertical-align: middle;\n",
       "    }\n",
       "\n",
       "    .dataframe tbody tr th {\n",
       "        vertical-align: top;\n",
       "    }\n",
       "\n",
       "    .dataframe thead th {\n",
       "        text-align: right;\n",
       "    }\n",
       "</style>\n",
       "<table border=\"1\" class=\"dataframe\">\n",
       "  <thead>\n",
       "    <tr style=\"text-align: right;\">\n",
       "      <th></th>\n",
       "      <th>id</th>\n",
       "      <th>movie</th>\n",
       "      <th>year</th>\n",
       "      <th>age_rating</th>\n",
       "      <th>imdb_fan_score</th>\n",
       "      <th>rt_critic_score</th>\n",
       "      <th>netflix</th>\n",
       "      <th>hulu</th>\n",
       "      <th>prime_video</th>\n",
       "      <th>disney_plus</th>\n",
       "      <th>...</th>\n",
       "      <th>genres</th>\n",
       "      <th>country</th>\n",
       "      <th>language</th>\n",
       "      <th>movie_len_mins</th>\n",
       "      <th>rt_movie_link</th>\n",
       "      <th>rt_audience_score</th>\n",
       "      <th>imdb_cast_link</th>\n",
       "      <th>actors</th>\n",
       "      <th>desc</th>\n",
       "      <th>imdb_movie_id</th>\n",
       "    </tr>\n",
       "  </thead>\n",
       "  <tbody>\n",
       "    <tr>\n",
       "      <th>0</th>\n",
       "      <td>1</td>\n",
       "      <td>Inception</td>\n",
       "      <td>2010</td>\n",
       "      <td>13+</td>\n",
       "      <td>8.8</td>\n",
       "      <td>87%</td>\n",
       "      <td>1</td>\n",
       "      <td>0</td>\n",
       "      <td>0</td>\n",
       "      <td>0</td>\n",
       "      <td>...</td>\n",
       "      <td>Action,Adventure,Sci-Fi,Thriller</td>\n",
       "      <td>United States,United Kingdom</td>\n",
       "      <td>English,Japanese,French</td>\n",
       "      <td>148.0</td>\n",
       "      <td>https://www.rottentomatoes.com/m/inception</td>\n",
       "      <td>0.91</td>\n",
       "      <td>https://www.imdb.com/title/tt1375666/fullcredits</td>\n",
       "      <td>['Leonardo DiCaprio', 'Joseph Gordon-Levitt', ...</td>\n",
       "      <td>NaN</td>\n",
       "      <td>tt1375666</td>\n",
       "    </tr>\n",
       "    <tr>\n",
       "      <th>1</th>\n",
       "      <td>2</td>\n",
       "      <td>The Matrix</td>\n",
       "      <td>1999</td>\n",
       "      <td>18+</td>\n",
       "      <td>8.7</td>\n",
       "      <td>87%</td>\n",
       "      <td>1</td>\n",
       "      <td>0</td>\n",
       "      <td>0</td>\n",
       "      <td>0</td>\n",
       "      <td>...</td>\n",
       "      <td>Action,Sci-Fi</td>\n",
       "      <td>United States</td>\n",
       "      <td>English</td>\n",
       "      <td>136.0</td>\n",
       "      <td>https://www.rottentomatoes.com/m/the_matrix</td>\n",
       "      <td>0.85</td>\n",
       "      <td>https://www.imdb.com/title/tt0133093/fullcredits</td>\n",
       "      <td>['Keanu Reeves', 'Laurence Fishburne', 'Carrie...</td>\n",
       "      <td>NaN</td>\n",
       "      <td>tt0133093</td>\n",
       "    </tr>\n",
       "    <tr>\n",
       "      <th>2</th>\n",
       "      <td>3</td>\n",
       "      <td>Avengers: Infinity War</td>\n",
       "      <td>2018</td>\n",
       "      <td>13+</td>\n",
       "      <td>8.5</td>\n",
       "      <td>84%</td>\n",
       "      <td>1</td>\n",
       "      <td>0</td>\n",
       "      <td>0</td>\n",
       "      <td>0</td>\n",
       "      <td>...</td>\n",
       "      <td>Action,Adventure,Sci-Fi</td>\n",
       "      <td>United States</td>\n",
       "      <td>English</td>\n",
       "      <td>149.0</td>\n",
       "      <td>https://www.rottentomatoes.com/m/avengers_infi...</td>\n",
       "      <td>0.91</td>\n",
       "      <td>https://www.imdb.com/title/tt4154756/fullcredits</td>\n",
       "      <td>['Robert Downey Jr.', 'Chris Hemsworth', 'Mark...</td>\n",
       "      <td>NaN</td>\n",
       "      <td>tt4154756</td>\n",
       "    </tr>\n",
       "    <tr>\n",
       "      <th>3</th>\n",
       "      <td>4</td>\n",
       "      <td>Back to the Future</td>\n",
       "      <td>1985</td>\n",
       "      <td>7+</td>\n",
       "      <td>8.5</td>\n",
       "      <td>96%</td>\n",
       "      <td>1</td>\n",
       "      <td>0</td>\n",
       "      <td>0</td>\n",
       "      <td>0</td>\n",
       "      <td>...</td>\n",
       "      <td>Adventure,Comedy,Sci-Fi</td>\n",
       "      <td>United States</td>\n",
       "      <td>English</td>\n",
       "      <td>116.0</td>\n",
       "      <td>https://www.rottentomatoes.com/m/back_to_the_f...</td>\n",
       "      <td>0.94</td>\n",
       "      <td>https://www.imdb.com/title/tt0088763/fullcredits</td>\n",
       "      <td>['Michael J. Fox', 'Christopher Lloyd', 'Lea T...</td>\n",
       "      <td>NaN</td>\n",
       "      <td>tt0088763</td>\n",
       "    </tr>\n",
       "    <tr>\n",
       "      <th>4</th>\n",
       "      <td>5</td>\n",
       "      <td>The Good, the Bad and the Ugly</td>\n",
       "      <td>1966</td>\n",
       "      <td>18+</td>\n",
       "      <td>8.8</td>\n",
       "      <td>97%</td>\n",
       "      <td>1</td>\n",
       "      <td>0</td>\n",
       "      <td>1</td>\n",
       "      <td>0</td>\n",
       "      <td>...</td>\n",
       "      <td>Western</td>\n",
       "      <td>Italy,Spain,West Germany</td>\n",
       "      <td>Italian</td>\n",
       "      <td>161.0</td>\n",
       "      <td>https://www.rottentomatoes.com/m/the_good_the_...</td>\n",
       "      <td>0.97</td>\n",
       "      <td>https://www.imdb.com/title/tt0060196/fullcredits</td>\n",
       "      <td>['Eli Wallach', 'Clint Eastwood', 'Lee Van Cle...</td>\n",
       "      <td>NaN</td>\n",
       "      <td>tt0060196</td>\n",
       "    </tr>\n",
       "  </tbody>\n",
       "</table>\n",
       "<p>5 rows × 21 columns</p>\n",
       "</div>"
      ],
      "text/plain": [
       "   id                           movie  year age_rating  imdb_fan_score  \\\n",
       "0   1                       Inception  2010        13+             8.8   \n",
       "1   2                      The Matrix  1999        18+             8.7   \n",
       "2   3          Avengers: Infinity War  2018        13+             8.5   \n",
       "3   4              Back to the Future  1985         7+             8.5   \n",
       "4   5  The Good, the Bad and the Ugly  1966        18+             8.8   \n",
       "\n",
       "  rt_critic_score  netflix  hulu  prime_video  disney_plus  ...  \\\n",
       "0             87%        1     0            0            0  ...   \n",
       "1             87%        1     0            0            0  ...   \n",
       "2             84%        1     0            0            0  ...   \n",
       "3             96%        1     0            0            0  ...   \n",
       "4             97%        1     0            1            0  ...   \n",
       "\n",
       "                             genres                       country  \\\n",
       "0  Action,Adventure,Sci-Fi,Thriller  United States,United Kingdom   \n",
       "1                     Action,Sci-Fi                 United States   \n",
       "2           Action,Adventure,Sci-Fi                 United States   \n",
       "3           Adventure,Comedy,Sci-Fi                 United States   \n",
       "4                           Western      Italy,Spain,West Germany   \n",
       "\n",
       "                  language movie_len_mins  \\\n",
       "0  English,Japanese,French          148.0   \n",
       "1                  English          136.0   \n",
       "2                  English          149.0   \n",
       "3                  English          116.0   \n",
       "4                  Italian          161.0   \n",
       "\n",
       "                                       rt_movie_link rt_audience_score  \\\n",
       "0         https://www.rottentomatoes.com/m/inception              0.91   \n",
       "1        https://www.rottentomatoes.com/m/the_matrix              0.85   \n",
       "2  https://www.rottentomatoes.com/m/avengers_infi...              0.91   \n",
       "3  https://www.rottentomatoes.com/m/back_to_the_f...              0.94   \n",
       "4  https://www.rottentomatoes.com/m/the_good_the_...              0.97   \n",
       "\n",
       "                                     imdb_cast_link  \\\n",
       "0  https://www.imdb.com/title/tt1375666/fullcredits   \n",
       "1  https://www.imdb.com/title/tt0133093/fullcredits   \n",
       "2  https://www.imdb.com/title/tt4154756/fullcredits   \n",
       "3  https://www.imdb.com/title/tt0088763/fullcredits   \n",
       "4  https://www.imdb.com/title/tt0060196/fullcredits   \n",
       "\n",
       "                                              actors desc imdb_movie_id  \n",
       "0  ['Leonardo DiCaprio', 'Joseph Gordon-Levitt', ...  NaN     tt1375666  \n",
       "1  ['Keanu Reeves', 'Laurence Fishburne', 'Carrie...  NaN     tt0133093  \n",
       "2  ['Robert Downey Jr.', 'Chris Hemsworth', 'Mark...  NaN     tt4154756  \n",
       "3  ['Michael J. Fox', 'Christopher Lloyd', 'Lea T...  NaN     tt0088763  \n",
       "4  ['Eli Wallach', 'Clint Eastwood', 'Lee Van Cle...  NaN     tt0060196  \n",
       "\n",
       "[5 rows x 21 columns]"
      ]
     },
     "execution_count": 46,
     "metadata": {},
     "output_type": "execute_result"
    }
   ],
   "source": [
    "df.head()"
   ]
  },
  {
   "cell_type": "code",
   "execution_count": 47,
   "metadata": {},
   "outputs": [
    {
     "name": "stdout",
     "output_type": "stream",
     "text": [
      "<class 'pandas.core.frame.DataFrame'>\n",
      "Int64Index: 16744 entries, 0 to 7\n",
      "Data columns (total 21 columns):\n",
      " #   Column             Non-Null Count  Dtype  \n",
      "---  ------             --------------  -----  \n",
      " 0   id                 16744 non-null  int64  \n",
      " 1   movie              16744 non-null  object \n",
      " 2   year               16744 non-null  int64  \n",
      " 3   age_rating         7354 non-null   object \n",
      " 4   imdb_fan_score     16173 non-null  float64\n",
      " 5   rt_critic_score    5158 non-null   object \n",
      " 6   netflix            16744 non-null  int64  \n",
      " 7   hulu               16744 non-null  int64  \n",
      " 8   prime_video        16744 non-null  int64  \n",
      " 9   disney_plus        16744 non-null  int64  \n",
      " 10  directors          16018 non-null  object \n",
      " 11  genres             16469 non-null  object \n",
      " 12  country            16309 non-null  object \n",
      " 13  language           16145 non-null  object \n",
      " 14  movie_len_mins     16152 non-null  float64\n",
      " 15  rt_movie_link      16744 non-null  object \n",
      " 16  rt_audience_score  16744 non-null  object \n",
      " 17  imdb_cast_link     16744 non-null  object \n",
      " 18  actors             16411 non-null  object \n",
      " 19  desc               9254 non-null   object \n",
      " 20  imdb_movie_id      16744 non-null  object \n",
      "dtypes: float64(2), int64(6), object(13)\n",
      "memory usage: 2.8+ MB\n"
     ]
    }
   ],
   "source": [
    "#checking null values and data types\n",
    "df.info()"
   ]
  },
  {
   "cell_type": "code",
   "execution_count": 48,
   "metadata": {},
   "outputs": [],
   "source": [
    "#function to change numbers in string format to float percent (e.g. '84%' --> 0.84)  \n",
    "def pct_to_float(rating):\n",
    "    try:\n",
    "        return int(rating.split('%')[0])/100\n",
    "    except:\n",
    "        pass"
   ]
  },
  {
   "cell_type": "code",
   "execution_count": 49,
   "metadata": {},
   "outputs": [],
   "source": [
    "#changing rotten tomatoes critic scores from string to float\n",
    "df['rt_critic_score'] = df['rt_critic_score'].apply(pct_to_float)"
   ]
  },
  {
   "cell_type": "code",
   "execution_count": 50,
   "metadata": {},
   "outputs": [
    {
     "data": {
      "text/plain": [
       "18+    3474\n",
       "7+     1462\n",
       "13+    1255\n",
       "all     843\n",
       "16+     320\n",
       "Name: age_rating, dtype: int64"
      ]
     },
     "execution_count": 50,
     "metadata": {},
     "output_type": "execute_result"
    }
   ],
   "source": [
    "#checking all age rating catgeories to convert to numerical\n",
    "df['age_rating'].value_counts()"
   ]
  },
  {
   "cell_type": "code",
   "execution_count": 51,
   "metadata": {},
   "outputs": [],
   "source": [
    "#creating 1-5 categories for age_rating\n",
    "df['age_rating'] = df['age_rating'].map({'18+':5,'16+':4,'13+':3,'7+':2,'all':1})"
   ]
  },
  {
   "cell_type": "code",
   "execution_count": 52,
   "metadata": {},
   "outputs": [],
   "source": [
    "#changing imdb score from scale of 1-10 to decimal percentage\n",
    "df['imdb_fan_score'] = df['imdb_fan_score']/10"
   ]
  },
  {
   "cell_type": "code",
   "execution_count": 53,
   "metadata": {},
   "outputs": [],
   "source": [
    "#changing rotten tomatoes audience score from string to float and NaN if no score exists\n",
    "df['rt_audience_score'] = df['rt_audience_score'].map(lambda x: float(x) if x != 'no score' else np.nan)"
   ]
  },
  {
   "cell_type": "code",
   "execution_count": 54,
   "metadata": {},
   "outputs": [
    {
     "data": {
      "image/png": "[encoded data removed]",
      "text/plain": [
       "<Figure size 432x288 with 1 Axes>"
      ]
     },
     "metadata": {
      "needs_background": "light"
     },
     "output_type": "display_data"
    }
   ],
   "source": [
    "#creating a histogram to display distribution of rotten tomatoes audience scores\n",
    "df['rt_audience_score'].plot(kind='hist',bins=30);"
   ]
  },
  {
   "cell_type": "code",
   "execution_count": 55,
   "metadata": {},
   "outputs": [
    {
     "data": {
      "image/png": "[encoded data removed]",
      "text/plain": [
       "<Figure size 432x288 with 1 Axes>"
      ]
     },
     "metadata": {
      "needs_background": "light"
     },
     "output_type": "display_data"
    }
   ],
   "source": [
    "#creating a histogram to display the distribution of imdb fan scores\n",
    "df['imdb_fan_score'].plot(kind='hist',bins=20);"
   ]
  },
  {
   "cell_type": "code",
   "execution_count": 56,
   "metadata": {},
   "outputs": [
    {
     "data": {
      "text/plain": [
       "Drama                                                   1341\n",
       "Documentary                                             1229\n",
       "Comedy                                                  1040\n",
       "Comedy,Drama                                             446\n",
       "Horror                                                   436\n",
       "                                                        ... \n",
       "Animation,Action,Crime,Drama,Mystery,Sci-Fi,Thriller       1\n",
       "Adventure,Comedy,Crime,Family                              1\n",
       "Short,Comedy,Drama,History,Thriller                        1\n",
       "Comedy,Drama,Fantasy,Horror,Mystery,Thriller               1\n",
       "Animation,Action,Drama,Romance,Sport                       1\n",
       "Name: genres, Length: 1909, dtype: int64"
      ]
     },
     "execution_count": 56,
     "metadata": {},
     "output_type": "execute_result"
    }
   ],
   "source": [
    "#seeing what the different genres are for the movies\n",
    "df['genres'].value_counts()"
   ]
  },
  {
   "cell_type": "code",
   "execution_count": 57,
   "metadata": {},
   "outputs": [
    {
     "data": {
      "text/plain": [
       "United States                            8776\n",
       "India                                    1064\n",
       "United Kingdom                            905\n",
       "Canada                                    555\n",
       "Australia                                 202\n",
       "                                         ... \n",
       "Italy,Switzerland                           1\n",
       "Norway,Denmark,Netherlands,Sweden           1\n",
       "China,India                                 1\n",
       "United States,United Kingdom,Brazil         1\n",
       "Georgia,France,United Kingdom,Germany       1\n",
       "Name: country, Length: 1303, dtype: int64"
      ]
     },
     "execution_count": 57,
     "metadata": {},
     "output_type": "execute_result"
    }
   ],
   "source": [
    "df['country'].value_counts()"
   ]
  },
  {
   "cell_type": "code",
   "execution_count": 58,
   "metadata": {},
   "outputs": [
    {
     "data": {
      "text/plain": [
       "English                             10955\n",
       "Hindi                                 503\n",
       "English,Spanish                       276\n",
       "Spanish                               267\n",
       "English,French                        174\n",
       "                                    ...  \n",
       "Hindi,Bhojpuri                          1\n",
       "English,French,Khmer,Russian            1\n",
       "English,Spanish,Korean                  1\n",
       "Icelandic,Swedish,French,English        1\n",
       "German,English,Polish,Swedish           1\n",
       "Name: language, Length: 1102, dtype: int64"
      ]
     },
     "execution_count": 58,
     "metadata": {},
     "output_type": "execute_result"
    }
   ],
   "source": [
    "df['language'].value_counts()"
   ]
  },
  {
   "cell_type": "code",
   "execution_count": 59,
   "metadata": {},
   "outputs": [],
   "source": [
    "#function that returns 2nd value from a list of values in a given column\n",
    "def sub_val(value):\n",
    "    if ',' in str(value):\n",
    "        return value.split(',')[1]\n",
    "    else:\n",
    "        return np.nan"
   ]
  },
  {
   "cell_type": "code",
   "execution_count": 60,
   "metadata": {},
   "outputs": [],
   "source": [
    "df['sub_genre'] = df['genres'].apply(sub_val)"
   ]
  },
  {
   "cell_type": "code",
   "execution_count": 61,
   "metadata": {},
   "outputs": [],
   "source": [
    "#function that returns only first value from a list of values in a given column\n",
    "def top_val(value):\n",
    "    if ',' in str(value):\n",
    "        return value.split(',')[0]\n",
    "    else:\n",
    "        return value"
   ]
  },
  {
   "cell_type": "code",
   "execution_count": 62,
   "metadata": {},
   "outputs": [],
   "source": [
    "df['top_genre'] = df['genres'].apply(top_val)\n",
    "df['country'] = df['country'].apply(top_val)\n",
    "df['language'] = df['language'].apply(top_val)"
   ]
  },
  {
   "cell_type": "code",
   "execution_count": 63,
   "metadata": {},
   "outputs": [],
   "source": [
    "#creating platform specific dataframes for four different models\n",
    "netflix_df = df[df['netflix'] == 1].drop(columns=['netflix','hulu','prime_video','disney_plus'])\n",
    "hulu_df = df[df['hulu'] == 1].drop(columns=['netflix','hulu','prime_video','disney_plus'])\n",
    "prime_df = df[df['prime_video'] == 1].drop(columns=['netflix','hulu','prime_video','disney_plus'])\n",
    "disney_df = df[df['disney_plus'] == 1].drop(columns=['netflix','hulu','prime_video','disney_plus'])"
   ]
  },
  {
   "cell_type": "code",
   "execution_count": 64,
   "metadata": {},
   "outputs": [
    {
     "name": "stdout",
     "output_type": "stream",
     "text": [
      "netflix dataset has 3560 observations, and 19 features\n",
      "\n",
      "hulu dataset has 903 observations, and 19 features\n",
      "\n",
      "prime video dataset has 12354 observations, and 19 features\n",
      "\n",
      "disney+ dataset has 564 observations, and 19 features\n",
      "\n"
     ]
    }
   ],
   "source": [
    "#looking at the shapes of all these dataframes\n",
    "print(f'''netflix dataset has {netflix_df.shape[0]} observations, and {netflix_df.shape[1]} features\\n\n",
    "hulu dataset has {hulu_df.shape[0]} observations, and {hulu_df.shape[1]} features\\n\n",
    "prime video dataset has {prime_df.shape[0]} observations, and {prime_df.shape[1]} features\\n\n",
    "disney+ dataset has {disney_df.shape[0]} observations, and {disney_df.shape[1]} features\n",
    "''')"
   ]
  },
  {
   "cell_type": "code",
   "execution_count": 65,
   "metadata": {},
   "outputs": [],
   "source": [
    "df['directors'] = df['directors'].apply(top_val)"
   ]
  },
  {
   "cell_type": "code",
   "execution_count": 66,
   "metadata": {},
   "outputs": [],
   "source": [
    "names = df['directors'].value_counts().index.to_list()\n",
    "counts = df['directors'].value_counts().to_list()"
   ]
  },
  {
   "cell_type": "code",
   "execution_count": 67,
   "metadata": {},
   "outputs": [
    {
     "data": {
      "text/plain": [
       "True"
      ]
     },
     "execution_count": 67,
     "metadata": {},
     "output_type": "execute_result"
    }
   ],
   "source": [
    "len(names) == len(counts)"
   ]
  },
  {
   "cell_type": "code",
   "execution_count": 68,
   "metadata": {},
   "outputs": [],
   "source": [
    "counts_dict = {}\n",
    "for i in range(len(names)):\n",
    "    counts_dict[names[i]] = counts[i]"
   ]
  },
  {
   "cell_type": "code",
   "execution_count": 69,
   "metadata": {},
   "outputs": [],
   "source": [
    "df['directors_ordinal'] = df['directors'].map(counts_dict)"
   ]
  },
  {
   "cell_type": "code",
   "execution_count": 73,
   "metadata": {},
   "outputs": [],
   "source": [
    "df = df.drop(columns=['id','netflix','hulu','prime_video','disney_plus','rt_movie_link',\n",
    "                     'imdb_cast_link','imdb_movie_id','directors'])"
   ]
  },
  {
   "cell_type": "code",
   "execution_count": 75,
   "metadata": {},
   "outputs": [],
   "source": [
    "df.to_csv('data/all_platforms_clean_for_modeling.csv')"
   ]
  },
  {
   "cell_type": "code",
   "execution_count": 25,
   "metadata": {},
   "outputs": [],
   "source": [
    "#creating df for analysis\n",
    "names = ['netflix','hulu','prime','disney']\n",
    "for i in range(len(streaming_services)):\n",
    "    streaming_services[i].to_csv(f'{names[i]}.csv')"
   ]
  }
 ],
 "metadata": {
  "kernelspec": {
   "display_name": "Python 3",
   "language": "python",
   "name": "python3"
  },
  "language_info": {
   "codemirror_mode": {
    "name": "ipython",
    "version": 3
   },
   "file_extension": ".py",
   "mimetype": "text/x-python",
   "name": "python",
   "nbconvert_exporter": "python",
   "pygments_lexer": "ipython3",
   "version": "3.7.3"
  }
 },
 "nbformat": 4,
 "nbformat_minor": 4
}
